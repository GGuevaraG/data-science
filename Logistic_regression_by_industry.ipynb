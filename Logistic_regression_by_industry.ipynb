{
 "cells": [
  {
   "cell_type": "code",
   "execution_count": 143,
   "metadata": {},
   "outputs": [],
   "source": [
    "import matplotlib.pyplot as plt\n",
    "import numpy as np\n",
    "import pandas as pd\n",
    "from sklearn.pipeline import Pipeline\n",
    "from sklearn.preprocessing import PolynomialFeatures\n",
    "from sklearn.linear_model import LogisticRegression\n",
    "from sklearn.model_selection import train_test_split, cross_validate\n",
    "from sklearn.metrics import precision_score, recall_score, f1_score, precision_recall_curve, confusion_matrix\n"
   ]
  },
  {
   "cell_type": "code",
   "execution_count": 144,
   "metadata": {},
   "outputs": [],
   "source": [
    "# leemos tablas\n",
    "ipc_path = \"~/Downloads/ipc.xlsx\" # Modificar la ruta\n",
    "market = pd.read_excel(ipc_path,index_col=0)\n",
    "market.columns = [c.replace(\" MF Equity\", \"\").replace(\" INDEX\", \"\").replace(\"*\", \"\") for c in market.columns]\n",
    "\n",
    "emisoras_path = \"~/Downloads/bmv_emisoras.csv\"\n",
    "emisoras = pd.read_csv(emisoras_path, index_col=0)\n"
   ]
  },
  {
   "cell_type": "code",
   "execution_count": 145,
   "metadata": {},
   "outputs": [],
   "source": [
    "# homogeneizamos nombres de ambas tablas\n",
    "in_emisoras = ['KIMBER','GAP','CEMEX','ASUR','GFNORTE','KOF','AC','LAB','FEMSA','OMA',\n",
    "              'GFINBUR','AMX','ALSEA','ORBIA','PE&OLES','GRUMA','R','WALMEX','BOLSA','LIVEPOL','GENTERA','IENOVA',\n",
    "               'CUERVO','ELEKTRA','BBAJIO','ALPEK','MEGA','GCC','BIMBO','GMEXICO','GCARSO','TLEVISA','ALFA',\n",
    "               'BSMX','PINFRA','GBM']\n",
    "in_market = ['KIMBERA','GAPB','CEMEXCPO','ASURB','GFNORTEO','KOFUBL','AC','LABB','FEMSAUBD','OMAB',\n",
    " 'GFINBURO','AMXL','ALSEA','ORBIA','PE&OLES','GRUMAB','RA','WALMEX','BOLSAA','LIVEPOLC','GENTERA','IENOVA',\n",
    " 'CUERVO','ELEKTRA','BBAJIOO','ALPEKA','MEGACPO','GCC','BIMBOA','GMEXICOB','GCARSOA1','TLEVICPO','ALFAA',\n",
    " 'BSMXB','PINFRA','MEXBOL']\n",
    "i = 0\n",
    "\n",
    "for emisora in in_emisoras:\n",
    "    as_list = emisoras.index.tolist()\n",
    "    idx = as_list.index(emisora)\n",
    "    as_list[idx] = in_market[i]\n",
    "    emisoras.index = as_list\n",
    "    i += 1\n"
   ]
  },
  {
   "cell_type": "code",
   "execution_count": 146,
   "metadata": {},
   "outputs": [],
   "source": [
    "#emisoras.head()"
   ]
  },
  {
   "cell_type": "code",
   "execution_count": 147,
   "metadata": {},
   "outputs": [
    {
     "data": {
      "text/html": [
       "<div>\n",
       "<style scoped>\n",
       "    .dataframe tbody tr th:only-of-type {\n",
       "        vertical-align: middle;\n",
       "    }\n",
       "\n",
       "    .dataframe tbody tr th {\n",
       "        vertical-align: top;\n",
       "    }\n",
       "\n",
       "    .dataframe thead tr th {\n",
       "        text-align: left;\n",
       "    }\n",
       "\n",
       "    .dataframe thead tr:last-of-type th {\n",
       "        text-align: right;\n",
       "    }\n",
       "</style>\n",
       "<table border=\"1\" class=\"dataframe\">\n",
       "  <thead>\n",
       "    <tr>\n",
       "      <th>sector</th>\n",
       "      <th>PRODUCTOS DE CONSUMO FRECUENTE</th>\n",
       "      <th>INDUSTRIAL</th>\n",
       "      <th>MATERIALES</th>\n",
       "      <th>INDUSTRIAL</th>\n",
       "      <th>SERVICIOS FINANCIEROS</th>\n",
       "      <th colspan=\"2\" halign=\"left\">PRODUCTOS DE CONSUMO FRECUENTE</th>\n",
       "      <th>SALUD</th>\n",
       "      <th>PRODUCTOS DE CONSUMO FRECUENTE</th>\n",
       "      <th>INDUSTRIAL</th>\n",
       "      <th>...</th>\n",
       "      <th>SERVICIOS DE TELECOMUNICACIONES</th>\n",
       "      <th>MATERIALES</th>\n",
       "      <th>PRODUCTOS DE CONSUMO FRECUENTE</th>\n",
       "      <th>MATERIALES</th>\n",
       "      <th>INDUSTRIAL</th>\n",
       "      <th>SERVICIOS DE TELECOMUNICACIONES</th>\n",
       "      <th>INDUSTRIAL</th>\n",
       "      <th>SERVICIOS FINANCIEROS</th>\n",
       "      <th>INDUSTRIAL</th>\n",
       "      <th>SERVICIOS FINANCIEROS</th>\n",
       "    </tr>\n",
       "    <tr>\n",
       "      <th>emisora</th>\n",
       "      <th>KIMBERA</th>\n",
       "      <th>GAPB</th>\n",
       "      <th>CEMEXCPO</th>\n",
       "      <th>ASURB</th>\n",
       "      <th>GFNORTEO</th>\n",
       "      <th>KOFUBL</th>\n",
       "      <th>AC</th>\n",
       "      <th>LABB</th>\n",
       "      <th>FEMSAUBD</th>\n",
       "      <th>OMAB</th>\n",
       "      <th>...</th>\n",
       "      <th>MEGACPO</th>\n",
       "      <th>GCC</th>\n",
       "      <th>BIMBOA</th>\n",
       "      <th>GMEXICOB</th>\n",
       "      <th>GCARSOA1</th>\n",
       "      <th>TLEVICPO</th>\n",
       "      <th>ALFAA</th>\n",
       "      <th>BSMXB</th>\n",
       "      <th>PINFRA</th>\n",
       "      <th>MEXBOL</th>\n",
       "    </tr>\n",
       "    <tr>\n",
       "      <th>DATE</th>\n",
       "      <th></th>\n",
       "      <th></th>\n",
       "      <th></th>\n",
       "      <th></th>\n",
       "      <th></th>\n",
       "      <th></th>\n",
       "      <th></th>\n",
       "      <th></th>\n",
       "      <th></th>\n",
       "      <th></th>\n",
       "      <th></th>\n",
       "      <th></th>\n",
       "      <th></th>\n",
       "      <th></th>\n",
       "      <th></th>\n",
       "      <th></th>\n",
       "      <th></th>\n",
       "      <th></th>\n",
       "      <th></th>\n",
       "      <th></th>\n",
       "      <th></th>\n",
       "    </tr>\n",
       "  </thead>\n",
       "  <tbody>\n",
       "    <tr>\n",
       "      <td>2016-01-01</td>\n",
       "      <td>40.37</td>\n",
       "      <td>152.05</td>\n",
       "      <td>8.72</td>\n",
       "      <td>243.89</td>\n",
       "      <td>94.99</td>\n",
       "      <td>123.90</td>\n",
       "      <td>104.68</td>\n",
       "      <td>13.85</td>\n",
       "      <td>161.63</td>\n",
       "      <td>83.61</td>\n",
       "      <td>...</td>\n",
       "      <td>64.19</td>\n",
       "      <td>44.81</td>\n",
       "      <td>45.95</td>\n",
       "      <td>36.79</td>\n",
       "      <td>70.98</td>\n",
       "      <td>94.34</td>\n",
       "      <td>34.10</td>\n",
       "      <td>30.25</td>\n",
       "      <td>202.73</td>\n",
       "      <td>42977.5</td>\n",
       "    </tr>\n",
       "    <tr>\n",
       "      <td>2016-01-04</td>\n",
       "      <td>39.16</td>\n",
       "      <td>148.57</td>\n",
       "      <td>8.43</td>\n",
       "      <td>238.29</td>\n",
       "      <td>91.79</td>\n",
       "      <td>120.29</td>\n",
       "      <td>102.09</td>\n",
       "      <td>14.41</td>\n",
       "      <td>157.62</td>\n",
       "      <td>81.77</td>\n",
       "      <td>...</td>\n",
       "      <td>64.45</td>\n",
       "      <td>43.51</td>\n",
       "      <td>45.02</td>\n",
       "      <td>35.71</td>\n",
       "      <td>69.83</td>\n",
       "      <td>92.62</td>\n",
       "      <td>33.74</td>\n",
       "      <td>29.46</td>\n",
       "      <td>202.93</td>\n",
       "      <td>42113.7</td>\n",
       "    </tr>\n",
       "  </tbody>\n",
       "</table>\n",
       "<p>2 rows × 36 columns</p>\n",
       "</div>"
      ],
      "text/plain": [
       "sector     PRODUCTOS DE CONSUMO FRECUENTE INDUSTRIAL MATERIALES INDUSTRIAL  \\\n",
       "emisora                           KIMBERA       GAPB   CEMEXCPO      ASURB   \n",
       "DATE                                                                         \n",
       "2016-01-01                          40.37     152.05       8.72     243.89   \n",
       "2016-01-04                          39.16     148.57       8.43     238.29   \n",
       "\n",
       "sector     SERVICIOS FINANCIEROS PRODUCTOS DE CONSUMO FRECUENTE          \\\n",
       "emisora                 GFNORTEO                         KOFUBL      AC   \n",
       "DATE                                                                      \n",
       "2016-01-01                 94.99                         123.90  104.68   \n",
       "2016-01-04                 91.79                         120.29  102.09   \n",
       "\n",
       "sector      SALUD PRODUCTOS DE CONSUMO FRECUENTE INDUSTRIAL  ...  \\\n",
       "emisora      LABB                       FEMSAUBD       OMAB  ...   \n",
       "DATE                                                         ...   \n",
       "2016-01-01  13.85                         161.63      83.61  ...   \n",
       "2016-01-04  14.41                         157.62      81.77  ...   \n",
       "\n",
       "sector     SERVICIOS DE TELECOMUNICACIONES MATERIALES  \\\n",
       "emisora                            MEGACPO        GCC   \n",
       "DATE                                                    \n",
       "2016-01-01                           64.19      44.81   \n",
       "2016-01-04                           64.45      43.51   \n",
       "\n",
       "sector     PRODUCTOS DE CONSUMO FRECUENTE MATERIALES INDUSTRIAL  \\\n",
       "emisora                            BIMBOA   GMEXICOB   GCARSOA1   \n",
       "DATE                                                              \n",
       "2016-01-01                          45.95      36.79      70.98   \n",
       "2016-01-04                          45.02      35.71      69.83   \n",
       "\n",
       "sector     SERVICIOS DE TELECOMUNICACIONES INDUSTRIAL SERVICIOS FINANCIEROS  \\\n",
       "emisora                           TLEVICPO      ALFAA                 BSMXB   \n",
       "DATE                                                                          \n",
       "2016-01-01                           94.34      34.10                 30.25   \n",
       "2016-01-04                           92.62      33.74                 29.46   \n",
       "\n",
       "sector     INDUSTRIAL SERVICIOS FINANCIEROS  \n",
       "emisora        PINFRA                MEXBOL  \n",
       "DATE                                         \n",
       "2016-01-01     202.73               42977.5  \n",
       "2016-01-04     202.93               42113.7  \n",
       "\n",
       "[2 rows x 36 columns]"
      ]
     },
     "execution_count": 147,
     "metadata": {},
     "output_type": "execute_result"
    }
   ],
   "source": [
    "catalog = pd.DataFrame(market.columns.tolist(),columns=['key']).join(emisoras,on=\"key\")[['key','Sector']].set_index('key')\n",
    "columns = zip(catalog.Sector,catalog.index)\n",
    "market.columns = pd.MultiIndex.from_tuples(columns, names = ['sector', 'emisora'])\n",
    "market.head(2)"
   ]
  },
  {
   "cell_type": "code",
   "execution_count": 148,
   "metadata": {},
   "outputs": [],
   "source": [
    "y = (market[(\"SERVICIOS FINANCIEROS\",\"MEXBOL\")].diff().shift(-1) > 0) * 1.0\n",
    "y.name = 'MEXBOL'\n",
    "\n",
    "X = market.drop((\"SERVICIOS FINANCIEROS\",\"MEXBOL\"), axis=1)\n",
    "# nos quedamos con la info por sector para agrupar\n",
    "X.columns = X.columns.droplevel(1)\n",
    "X = X.T.groupby('sector').mean().T # pasamos de las 35 columnas a 8 agrupadas por sector\n",
    "X = X.join(y, how=\"inner\")\n",
    "\n",
    "\n",
    "y = X[\"MEXBOL\"]\n",
    "X = X.drop(\"MEXBOL\", axis=1)\n"
   ]
  },
  {
   "cell_type": "code",
   "execution_count": 149,
   "metadata": {},
   "outputs": [],
   "source": [
    "train_period = \"2019-10\"\n",
    "test_period = \"2019-11-20\"\n",
    "Xtrain, ytrain = X[:train_period], y[:train_period]\n",
    "Xtest, ytest = X[:test_period], y[:test_period]\n"
   ]
  },
  {
   "cell_type": "code",
   "execution_count": 185,
   "metadata": {},
   "outputs": [],
   "source": [
    "from sklearn.model_selection import GridSearchCV\n",
    "\n",
    "\n",
    "pipe = Pipeline([\n",
    "    (\"poly\", PolynomialFeatures(degree=3, include_bias=False)),\n",
    "    (\"lor\",LogisticRegression(penalty = 'l2'))\n",
    "])\n",
    "\n",
    "params = {\n",
    "    \"lor__C\": np.logspace(-4, 4, 50),\n",
    "    #'penalty': ['l1','l2']\n",
    "    'lor__max_iter' : [3000],\n",
    "    \n",
    "}\n",
    "# Inicializando el modelo\n",
    "gcv = GridSearchCV(pipe, params, scoring=\"accuracy\", n_jobs=-1)\n",
    "\n"
   ]
  },
  {
   "cell_type": "code",
   "execution_count": 186,
   "metadata": {},
   "outputs": [
    {
     "name": "stderr",
     "output_type": "stream",
     "text": [
      "/Users/grguevara/opt/anaconda3/lib/python3.7/site-packages/sklearn/model_selection/_split.py:1978: FutureWarning: The default value of cv will change from 3 to 5 in version 0.22. Specify it explicitly to silence this warning.\n",
      "  warnings.warn(CV_WARNING, FutureWarning)\n",
      "/Users/grguevara/opt/anaconda3/lib/python3.7/site-packages/sklearn/linear_model/logistic.py:432: FutureWarning: Default solver will be changed to 'lbfgs' in 0.22. Specify a solver to silence this warning.\n",
      "  FutureWarning)\n"
     ]
    },
    {
     "data": {
      "text/plain": [
       "GridSearchCV(cv='warn', error_score='raise-deprecating',\n",
       "             estimator=Pipeline(memory=None,\n",
       "                                steps=[('poly',\n",
       "                                        PolynomialFeatures(degree=3,\n",
       "                                                           include_bias=False,\n",
       "                                                           interaction_only=False,\n",
       "                                                           order='C')),\n",
       "                                       ('lor',\n",
       "                                        LogisticRegression(C=1.0,\n",
       "                                                           class_weight=None,\n",
       "                                                           dual=False,\n",
       "                                                           fit_intercept=True,\n",
       "                                                           intercept_scaling=1,\n",
       "                                                           l1_ratio=None,\n",
       "                                                           max_iter=100,\n",
       "                                                           multi_class='warn',\n",
       "                                                           n_jobs=None,\n",
       "                                                           penalty='...\n",
       "       1.67683294e+01, 2.44205309e+01, 3.55648031e+01, 5.17947468e+01,\n",
       "       7.54312006e+01, 1.09854114e+02, 1.59985872e+02, 2.32995181e+02,\n",
       "       3.39322177e+02, 4.94171336e+02, 7.19685673e+02, 1.04811313e+03,\n",
       "       1.52641797e+03, 2.22299648e+03, 3.23745754e+03, 4.71486636e+03,\n",
       "       6.86648845e+03, 1.00000000e+04]),\n",
       "                         'lor__max_iter': [3000]},\n",
       "             pre_dispatch='2*n_jobs', refit=True, return_train_score=False,\n",
       "             scoring='accuracy', verbose=0)"
      ]
     },
     "execution_count": 186,
     "metadata": {},
     "output_type": "execute_result"
    }
   ],
   "source": [
    "gcv.fit(Xtrain, ytrain)"
   ]
  },
  {
   "cell_type": "code",
   "execution_count": 187,
   "metadata": {},
   "outputs": [
    {
     "name": "stderr",
     "output_type": "stream",
     "text": [
      "/Users/grguevara/opt/anaconda3/lib/python3.7/site-packages/sklearn/model_selection/_split.py:1978: FutureWarning: The default value of cv will change from 3 to 5 in version 0.22. Specify it explicitly to silence this warning.\n",
      "  warnings.warn(CV_WARNING, FutureWarning)\n",
      "/Users/grguevara/opt/anaconda3/lib/python3.7/site-packages/sklearn/model_selection/_split.py:1978: FutureWarning: The default value of cv will change from 3 to 5 in version 0.22. Specify it explicitly to silence this warning.\n",
      "  warnings.warn(CV_WARNING, FutureWarning)\n",
      "/Users/grguevara/opt/anaconda3/lib/python3.7/site-packages/sklearn/linear_model/logistic.py:432: FutureWarning: Default solver will be changed to 'lbfgs' in 0.22. Specify a solver to silence this warning.\n",
      "  FutureWarning)\n",
      "/Users/grguevara/opt/anaconda3/lib/python3.7/site-packages/sklearn/model_selection/_split.py:1978: FutureWarning: The default value of cv will change from 3 to 5 in version 0.22. Specify it explicitly to silence this warning.\n",
      "  warnings.warn(CV_WARNING, FutureWarning)\n",
      "/Users/grguevara/opt/anaconda3/lib/python3.7/site-packages/sklearn/linear_model/logistic.py:432: FutureWarning: Default solver will be changed to 'lbfgs' in 0.22. Specify a solver to silence this warning.\n",
      "  FutureWarning)\n",
      "/Users/grguevara/opt/anaconda3/lib/python3.7/site-packages/sklearn/model_selection/_split.py:1978: FutureWarning: The default value of cv will change from 3 to 5 in version 0.22. Specify it explicitly to silence this warning.\n",
      "  warnings.warn(CV_WARNING, FutureWarning)\n",
      "/Users/grguevara/opt/anaconda3/lib/python3.7/site-packages/sklearn/linear_model/logistic.py:432: FutureWarning: Default solver will be changed to 'lbfgs' in 0.22. Specify a solver to silence this warning.\n",
      "  FutureWarning)\n"
     ]
    },
    {
     "data": {
      "text/plain": [
       "array([0.47305389, 0.43113772, 0.48192771])"
      ]
     },
     "execution_count": 187,
     "metadata": {},
     "output_type": "execute_result"
    }
   ],
   "source": [
    "res = cross_validate(gcv, Xtrain, ytrain, scoring=\"accuracy\")\n",
    "res['test_score']"
   ]
  },
  {
   "cell_type": "code",
   "execution_count": 188,
   "metadata": {},
   "outputs": [],
   "source": [
    "yhat = gcv.predict(Xtest)"
   ]
  },
  {
   "cell_type": "code",
   "execution_count": 189,
   "metadata": {},
   "outputs": [
    {
     "data": {
      "text/plain": [
       "array([[337, 182],\n",
       "       [193, 302]])"
      ]
     },
     "execution_count": 189,
     "metadata": {},
     "output_type": "execute_result"
    }
   ],
   "source": [
    "confusion_matrix(ytest, yhat, labels=[0, 1])\n"
   ]
  },
  {
   "cell_type": "code",
   "execution_count": 195,
   "metadata": {},
   "outputs": [
    {
     "data": {
      "text/plain": [
       "0.6239669421487604"
      ]
     },
     "execution_count": 195,
     "metadata": {},
     "output_type": "execute_result"
    }
   ],
   "source": [
    "precision_score(ytest, yhat)"
   ]
  },
  {
   "cell_type": "code",
   "execution_count": 196,
   "metadata": {},
   "outputs": [
    {
     "data": {
      "text/plain": [
       "0.6101010101010101"
      ]
     },
     "execution_count": 196,
     "metadata": {},
     "output_type": "execute_result"
    }
   ],
   "source": [
    "recall_score(ytest, yhat)"
   ]
  },
  {
   "cell_type": "code",
   "execution_count": 197,
   "metadata": {},
   "outputs": [
    {
     "data": {
      "text/plain": [
       "(0.6206896551724138, 0.6169560776302349)"
      ]
     },
     "execution_count": 197,
     "metadata": {},
     "output_type": "execute_result"
    }
   ],
   "source": [
    "f1, f1_score(ytest, yhat)"
   ]
  },
  {
   "cell_type": "code",
   "execution_count": 193,
   "metadata": {},
   "outputs": [
    {
     "data": {
      "text/plain": [
       "Text(0.5, 0, 'Nivel de proba asignada')"
      ]
     },
     "execution_count": 193,
     "metadata": {},
     "output_type": "execute_result"
    },
    {
     "data": {
      "image/png": "[encoded data removed]",
      "text/plain": [
       "<Figure size 432x288 with 1 Axes>"
      ]
     },
     "metadata": {
      "needs_background": "light"
     },
     "output_type": "display_data"
    }
   ],
   "source": [
    "\n",
    "proba_estimate = gcv.predict_proba(Xtest)[:, 1]\n",
    "precision, recall, threshold = precision_recall_curve(ytest, proba_estimate)\n",
    "\n",
    "plt.plot(threshold, precision[:-1], label=\"precision\")\n",
    "plt.plot(threshold, recall[:-1], label=\"recall\")\n",
    "plt.legend()\n",
    "plt.axvline(x=0.5, linestyle=\"--\", c=\"black\")\n",
    "plt.axhline(y=0.5, linestyle=\"--\", c=\"black\")\n",
    "plt.xlabel(\"Nivel de proba asignada\")"
   ]
  },
  {
   "cell_type": "code",
   "execution_count": null,
   "metadata": {},
   "outputs": [],
   "source": []
  },
  {
   "cell_type": "code",
   "execution_count": null,
   "metadata": {},
   "outputs": [],
   "source": []
  }
 ],
 "metadata": {
  "kernelspec": {
   "display_name": "Python 3",
   "language": "python",
   "name": "python3"
  },
  "language_info": {
   "codemirror_mode": {
    "name": "ipython",
    "version": 3
   },
   "file_extension": ".py",
   "mimetype": "text/x-python",
   "name": "python",
   "nbconvert_exporter": "python",
   "pygments_lexer": "ipython3",
   "version": "3.7.4"
  }
 },
 "nbformat": 4,
 "nbformat_minor": 2
}
