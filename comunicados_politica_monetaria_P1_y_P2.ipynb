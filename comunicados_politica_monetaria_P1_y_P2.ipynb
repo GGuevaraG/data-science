{
 "cells": [
  {
   "cell_type": "markdown",
   "metadata": {},
   "source": [
    "# Comunicados de Política Monetaria\n",
    "## Parte 1.\n",
    "\n",
    "En este notebook crearemos un pandas DataFrame con las decisiones de política monetaria de Banxico y haremos un análisis de la información recabada."
   ]
  },
  {
   "cell_type": "code",
   "execution_count": 135,
   "metadata": {},
   "outputs": [],
   "source": [
    "import re\n",
    "import os\n",
    "import pandas as pd\n",
    "import matplotlib.pyplot as plt\n",
    "from requests_html import HTMLSession\n",
    "from collections import defaultdict, Counter\n",
    "from unidecode import unidecode\n",
    "from datetime import datetime\n",
    "import numpy as np"
   ]
  },
  {
   "cell_type": "code",
   "execution_count": 136,
   "metadata": {},
   "outputs": [],
   "source": [
    "%config InlineBackend.figure_format = \"retina\"\n",
    "plt.rcParams[\"figure.figsize\"] = (12, 4)"
   ]
  },
  {
   "cell_type": "markdown",
   "metadata": {},
   "source": [
    "La información de decisción de política monetaria se encuentra en la siguiente url."
   ]
  },
  {
   "cell_type": "code",
   "execution_count": 137,
   "metadata": {},
   "outputs": [],
   "source": [
    "url = (\"https://www.banxico.org.mx/publicaciones-y-prensa/\"\n",
    "      \"anuncios-de-las-decisiones-de-politica-monetaria/\"\n",
    "      \"anuncios-politica-monetaria-t.html\")"
   ]
  },
  {
   "cell_type": "markdown",
   "metadata": {},
   "source": [
    "* Entra a `url` y analiza la página."
   ]
  },
  {
   "cell_type": "code",
   "execution_count": 138,
   "metadata": {},
   "outputs": [
    {
     "name": "stdout",
     "output_type": "stream",
     "text": [
      "https://www.banxico.org.mx/publicaciones-y-prensa/anuncios-de-las-decisiones-de-politica-monetaria/anuncios-politica-monetaria-t.html\n"
     ]
    }
   ],
   "source": [
    "print(url)"
   ]
  },
  {
   "cell_type": "markdown",
   "metadata": {},
   "source": [
    "* Como podemos observar, la url objetivo contiene\n",
    "    * las fechas de decisiones de política monetaria,\n",
    "    * el resumen de las decisiones de política monetaria y\n",
    "    * una url que nos dirige a un pdf con el texto completo del Anuncio de Política Monetaria.\n",
    "    \n",
    "<h3 style=\"color:crimson\">Ejercicio</h3>\n",
    "\n",
    "1. Por medio de `requests_html`, extrae los tres puntos antes mencionados y guárdalos dentro de un DataFrame con columnas `\"date\"`, `\"text\"` y `\"url\"`;\n",
    "2. Con el dataframe seleccionado, filtra todos comunicados anteriores al 15 de febrero de 2008, i.e., queremos todos los comunicados a partir del 15 de Febrero de 2008;\n",
    "3. Guarda tu DataFrame dentro de un archivo `.pkl` con nombre `comunicados-banxico.pkl`: **hint:** Revisa el uso del método `to_pickle`."
   ]
  },
  {
   "cell_type": "code",
   "execution_count": 139,
   "metadata": {},
   "outputs": [
    {
     "data": {
      "text/plain": [
       "<Response [200]>"
      ]
     },
     "execution_count": 139,
     "metadata": {},
     "output_type": "execute_result"
    }
   ],
   "source": [
    "# conexión a la página principal\n",
    "with HTMLSession() as sess:\n",
    "    r = sess.get(url)\n",
    "r"
   ]
  },
  {
   "cell_type": "code",
   "execution_count": 140,
   "metadata": {},
   "outputs": [],
   "source": [
    "tbody = r.html.find(\"tbody\", first=True)\n",
    "tr = tbody.find(\"tr\")\n",
    "\n",
    "info = []\n",
    "\n",
    "for tri in tr:\n",
    "    date_str = tri.find(\"td[class = 'bmdateview']\",first=True).text\n",
    "    date = datetime.strptime(date_str, \"%d/%m/%y\")\n",
    "    \n",
    "    text = tri.find(\"td[class = 'bmtextview']\",first=True).text\n",
    "    \n",
    "    url = tri.find(\"a\",first=True)\n",
    "    url, *_ = url.absolute_links\n",
    "    \n",
    "    record = {\n",
    "        \"date\": date,\n",
    "        \"text\": text,\n",
    "        \"url\": url\n",
    "    }\n",
    "    \n",
    "    info.append(record)\n"
   ]
  },
  {
   "cell_type": "code",
   "execution_count": 141,
   "metadata": {},
   "outputs": [
    {
     "data": {
      "text/html": [
       "<div>\n",
       "<style scoped>\n",
       "    .dataframe tbody tr th:only-of-type {\n",
       "        vertical-align: middle;\n",
       "    }\n",
       "\n",
       "    .dataframe tbody tr th {\n",
       "        vertical-align: top;\n",
       "    }\n",
       "\n",
       "    .dataframe thead th {\n",
       "        text-align: right;\n",
       "    }\n",
       "</style>\n",
       "<table border=\"1\" class=\"dataframe\">\n",
       "  <thead>\n",
       "    <tr style=\"text-align: right;\">\n",
       "      <th></th>\n",
       "      <th>text</th>\n",
       "      <th>url</th>\n",
       "    </tr>\n",
       "    <tr>\n",
       "      <th>date</th>\n",
       "      <th></th>\n",
       "      <th></th>\n",
       "    </tr>\n",
       "  </thead>\n",
       "  <tbody>\n",
       "    <tr>\n",
       "      <td>2020-02-13</td>\n",
       "      <td>El objetivo para la Tasa de Inter�s Interbanca...</td>\n",
       "      <td>https://www.banxico.org.mx/publicaciones-y-pre...</td>\n",
       "    </tr>\n",
       "    <tr>\n",
       "      <td>2019-12-19</td>\n",
       "      <td>El objetivo para la Tasa de Inter�s Interbanca...</td>\n",
       "      <td>https://www.banxico.org.mx/publicaciones-y-pre...</td>\n",
       "    </tr>\n",
       "    <tr>\n",
       "      <td>2019-11-14</td>\n",
       "      <td>El objetivo para la Tasa de Inter�s Interbanca...</td>\n",
       "      <td>https://www.banxico.org.mx/publicaciones-y-pre...</td>\n",
       "    </tr>\n",
       "    <tr>\n",
       "      <td>2019-09-26</td>\n",
       "      <td>El objetivo para la Tasa de Inter�s Interbanca...</td>\n",
       "      <td>https://www.banxico.org.mx/publicaciones-y-pre...</td>\n",
       "    </tr>\n",
       "    <tr>\n",
       "      <td>2019-08-15</td>\n",
       "      <td>El objetivo para la Tasa de Inter�s Interbanca...</td>\n",
       "      <td>https://www.banxico.org.mx/publicaciones-y-pre...</td>\n",
       "    </tr>\n",
       "  </tbody>\n",
       "</table>\n",
       "</div>"
      ],
      "text/plain": [
       "                                                         text  \\\n",
       "date                                                            \n",
       "2020-02-13  El objetivo para la Tasa de Inter�s Interbanca...   \n",
       "2019-12-19  El objetivo para la Tasa de Inter�s Interbanca...   \n",
       "2019-11-14  El objetivo para la Tasa de Inter�s Interbanca...   \n",
       "2019-09-26  El objetivo para la Tasa de Inter�s Interbanca...   \n",
       "2019-08-15  El objetivo para la Tasa de Inter�s Interbanca...   \n",
       "\n",
       "                                                          url  \n",
       "date                                                           \n",
       "2020-02-13  https://www.banxico.org.mx/publicaciones-y-pre...  \n",
       "2019-12-19  https://www.banxico.org.mx/publicaciones-y-pre...  \n",
       "2019-11-14  https://www.banxico.org.mx/publicaciones-y-pre...  \n",
       "2019-09-26  https://www.banxico.org.mx/publicaciones-y-pre...  \n",
       "2019-08-15  https://www.banxico.org.mx/publicaciones-y-pre...  "
      ]
     },
     "execution_count": 141,
     "metadata": {},
     "output_type": "execute_result"
    }
   ],
   "source": [
    "df = pd.DataFrame(info)\n",
    "df = df.set_index('date') # para hacer index la columna date\n",
    "df = df.loc[:'2008-02-15'] # filtramos los de después de esta fecha \n",
    "df.head()"
   ]
  },
  {
   "cell_type": "code",
   "execution_count": 142,
   "metadata": {},
   "outputs": [],
   "source": [
    "df.to_pickle(\"./comunicados-banxico.pkl\")\n",
    "#hola = pd.read_pickle(\"./comunicados-banxico.pkl\")\n",
    "#hola"
   ]
  },
  {
   "cell_type": "markdown",
   "metadata": {},
   "source": [
    "<h3 style=\"color:crimson\">Ejercicio</h3>\n",
    "\n",
    "Por medio del método `str.extract` para un pandas Series, crea una nueva columna `\"category\"` que extraiga del texto si la tasa se \n",
    "1. `\"mantiene\"`\n",
    "2. `\"incrementa\"`\n",
    "3. `\"disminuye\"`"
   ]
  },
  {
   "cell_type": "code",
   "execution_count": 143,
   "metadata": {},
   "outputs": [
    {
     "data": {
      "text/html": [
       "<div>\n",
       "<style scoped>\n",
       "    .dataframe tbody tr th:only-of-type {\n",
       "        vertical-align: middle;\n",
       "    }\n",
       "\n",
       "    .dataframe tbody tr th {\n",
       "        vertical-align: top;\n",
       "    }\n",
       "\n",
       "    .dataframe thead th {\n",
       "        text-align: right;\n",
       "    }\n",
       "</style>\n",
       "<table border=\"1\" class=\"dataframe\">\n",
       "  <thead>\n",
       "    <tr style=\"text-align: right;\">\n",
       "      <th></th>\n",
       "      <th>text</th>\n",
       "      <th>url</th>\n",
       "      <th>category</th>\n",
       "    </tr>\n",
       "    <tr>\n",
       "      <th>date</th>\n",
       "      <th></th>\n",
       "      <th></th>\n",
       "      <th></th>\n",
       "    </tr>\n",
       "  </thead>\n",
       "  <tbody>\n",
       "    <tr>\n",
       "      <td>2020-02-13</td>\n",
       "      <td>El objetivo para la Tasa de Inter�s Interbanca...</td>\n",
       "      <td>https://www.banxico.org.mx/publicaciones-y-pre...</td>\n",
       "      <td>disminuye</td>\n",
       "    </tr>\n",
       "    <tr>\n",
       "      <td>2019-12-19</td>\n",
       "      <td>El objetivo para la Tasa de Inter�s Interbanca...</td>\n",
       "      <td>https://www.banxico.org.mx/publicaciones-y-pre...</td>\n",
       "      <td>disminuye</td>\n",
       "    </tr>\n",
       "    <tr>\n",
       "      <td>2019-11-14</td>\n",
       "      <td>El objetivo para la Tasa de Inter�s Interbanca...</td>\n",
       "      <td>https://www.banxico.org.mx/publicaciones-y-pre...</td>\n",
       "      <td>disminuye</td>\n",
       "    </tr>\n",
       "    <tr>\n",
       "      <td>2019-09-26</td>\n",
       "      <td>El objetivo para la Tasa de Inter�s Interbanca...</td>\n",
       "      <td>https://www.banxico.org.mx/publicaciones-y-pre...</td>\n",
       "      <td>disminuye</td>\n",
       "    </tr>\n",
       "    <tr>\n",
       "      <td>2019-08-15</td>\n",
       "      <td>El objetivo para la Tasa de Inter�s Interbanca...</td>\n",
       "      <td>https://www.banxico.org.mx/publicaciones-y-pre...</td>\n",
       "      <td>disminuye</td>\n",
       "    </tr>\n",
       "    <tr>\n",
       "      <td>2019-06-27</td>\n",
       "      <td>El objetivo para la Tasa de Inter�s Interbanca...</td>\n",
       "      <td>https://www.banxico.org.mx/publicaciones-y-pre...</td>\n",
       "      <td>mantiene</td>\n",
       "    </tr>\n",
       "    <tr>\n",
       "      <td>2019-05-16</td>\n",
       "      <td>El objetivo para la Tasa de Inter�s Interbanca...</td>\n",
       "      <td>https://www.banxico.org.mx/publicaciones-y-pre...</td>\n",
       "      <td>mantiene</td>\n",
       "    </tr>\n",
       "    <tr>\n",
       "      <td>2019-03-28</td>\n",
       "      <td>El objetivo para la Tasa de Inter�s Interbanca...</td>\n",
       "      <td>https://www.banxico.org.mx/publicaciones-y-pre...</td>\n",
       "      <td>mantiene</td>\n",
       "    </tr>\n",
       "    <tr>\n",
       "      <td>2019-02-07</td>\n",
       "      <td>El objetivo para la Tasa de Inter�s Interbanca...</td>\n",
       "      <td>https://www.banxico.org.mx/publicaciones-y-pre...</td>\n",
       "      <td>mantiene</td>\n",
       "    </tr>\n",
       "    <tr>\n",
       "      <td>2018-12-20</td>\n",
       "      <td>El objetivo para la Tasa de Inter�s Interbanca...</td>\n",
       "      <td>https://www.banxico.org.mx/publicaciones-y-pre...</td>\n",
       "      <td>incrementa</td>\n",
       "    </tr>\n",
       "  </tbody>\n",
       "</table>\n",
       "</div>"
      ],
      "text/plain": [
       "                                                         text  \\\n",
       "date                                                            \n",
       "2020-02-13  El objetivo para la Tasa de Inter�s Interbanca...   \n",
       "2019-12-19  El objetivo para la Tasa de Inter�s Interbanca...   \n",
       "2019-11-14  El objetivo para la Tasa de Inter�s Interbanca...   \n",
       "2019-09-26  El objetivo para la Tasa de Inter�s Interbanca...   \n",
       "2019-08-15  El objetivo para la Tasa de Inter�s Interbanca...   \n",
       "2019-06-27  El objetivo para la Tasa de Inter�s Interbanca...   \n",
       "2019-05-16  El objetivo para la Tasa de Inter�s Interbanca...   \n",
       "2019-03-28  El objetivo para la Tasa de Inter�s Interbanca...   \n",
       "2019-02-07  El objetivo para la Tasa de Inter�s Interbanca...   \n",
       "2018-12-20  El objetivo para la Tasa de Inter�s Interbanca...   \n",
       "\n",
       "                                                          url    category  \n",
       "date                                                                       \n",
       "2020-02-13  https://www.banxico.org.mx/publicaciones-y-pre...   disminuye  \n",
       "2019-12-19  https://www.banxico.org.mx/publicaciones-y-pre...   disminuye  \n",
       "2019-11-14  https://www.banxico.org.mx/publicaciones-y-pre...   disminuye  \n",
       "2019-09-26  https://www.banxico.org.mx/publicaciones-y-pre...   disminuye  \n",
       "2019-08-15  https://www.banxico.org.mx/publicaciones-y-pre...   disminuye  \n",
       "2019-06-27  https://www.banxico.org.mx/publicaciones-y-pre...    mantiene  \n",
       "2019-05-16  https://www.banxico.org.mx/publicaciones-y-pre...    mantiene  \n",
       "2019-03-28  https://www.banxico.org.mx/publicaciones-y-pre...    mantiene  \n",
       "2019-02-07  https://www.banxico.org.mx/publicaciones-y-pre...    mantiene  \n",
       "2018-12-20  https://www.banxico.org.mx/publicaciones-y-pre...  incrementa  "
      ]
     },
     "execution_count": 143,
     "metadata": {},
     "output_type": "execute_result"
    }
   ],
   "source": [
    "sr = df['text']\n",
    "\n",
    "category = sr.str.extract(pat = '(mantiene|incrementa|disminuye)') \n",
    "\n",
    "df = df.assign(category=category)\n",
    "df.head(10)"
   ]
  },
  {
   "cell_type": "markdown",
   "metadata": {},
   "source": [
    "<h3 style=\"color:crimson\">Ejercicio</h3>\n",
    "\n",
    "Cuenta las veces en las que la tasa se mantuvo, se incrementó o se disminuyó."
   ]
  },
  {
   "cell_type": "code",
   "execution_count": 144,
   "metadata": {},
   "outputs": [
    {
     "data": {
      "text/plain": [
       "mantiene      72\n",
       "incrementa    18\n",
       "disminuye     16\n",
       "Name: category, dtype: int64"
      ]
     },
     "execution_count": 144,
     "metadata": {},
     "output_type": "execute_result"
    }
   ],
   "source": [
    "category_count = df['category']\n",
    "pd.Series(category_count).value_counts()\n"
   ]
  },
  {
   "cell_type": "markdown",
   "metadata": {},
   "source": [
    "<h3 style=\"color:crimson\">Ejercicio</h3>\n",
    "\n",
    "Reproduce la siguiente figura sobre los comunicados de prensa de Banxico:\n",
    "1. La gráfica de la izquierda representa una serie de tiempo sobre los comunicados de banxico. Si `y=1`, la tasa de referencia se incrementó; si `y=0`, la tasa se mantuvo; finalmente, si `y=-1`, la tasa disminuyó.\n",
    "2. La gráfica de la derecha es una gráfica de barras del ejercicio anterior"
   ]
  },
  {
   "cell_type": "code",
   "execution_count": 145,
   "metadata": {},
   "outputs": [],
   "source": [
    "def label_category(row):\n",
    "   if row['category'] == 'mantiene' :\n",
    "      return 0\n",
    "   if row['category'] == 'incrementa' :\n",
    "      return 1\n",
    "   if row['category'] == 'disminuye' :\n",
    "      return -1 \n",
    "    \n",
    "    \n",
    "df['category_label']=df.apply(lambda row: label_category(row), axis=1)#.plot.scatter(x=index,y=label_category,marker='+')\n",
    "\n",
    "\n",
    "#df.plot.scatter(x=df['date'],y=df['category_label'],marker='+')\n",
    "\n"
   ]
  },
  {
   "cell_type": "code",
   "execution_count": 146,
   "metadata": {},
   "outputs": [
    {
     "data": {
      "image/png": "[encoded data removed]",
      "text/plain": [
       "<Figure size 864x288 with 2 Axes>"
      ]
     },
     "metadata": {
      "image/png": {
       "height": 248,
       "width": 736
      },
      "needs_background": "light"
     },
     "output_type": "display_data"
    }
   ],
   "source": [
    "fig, (ax1, ax2) = plt.subplots(1,2)\n",
    "ax1.scatter(x=df.index, y=df['category_label'], marker='+')\n",
    "ax2.hist(x=df['category'])\n",
    "plt.show()"
   ]
  },
  {
   "cell_type": "markdown",
   "metadata": {},
   "source": [
    "<h3 style=\"color:crimson\">Ejercicio</h3>\n",
    "\n",
    "Agrupa por año y cuenta el número de comunicados en un año para cada categoría."
   ]
  },
  {
   "cell_type": "code",
   "execution_count": 147,
   "metadata": {},
   "outputs": [
    {
     "data": {
      "text/plain": [
       "      category  \n",
       "2008  incrementa     3\n",
       "      mantiene       7\n",
       "2009  disminuye      7\n",
       "      mantiene       4\n",
       "2010  mantiene      11\n",
       "Name: category, dtype: int64"
      ]
     },
     "execution_count": 147,
     "metadata": {},
     "output_type": "execute_result"
    }
   ],
   "source": [
    "grouped = (df.groupby([df.index.strftime('%Y'),'category'])['category']\n",
    "    .count())\n",
    "    \n",
    "grouped.head()\n"
   ]
  },
  {
   "cell_type": "markdown",
   "metadata": {},
   "source": [
    "<h3 style=\"color:crimson\">Ejercicio</h3>\n",
    "\n",
    "Con el resultado anterior, replica la siguiente gráfica"
   ]
  },
  {
   "cell_type": "code",
   "execution_count": 148,
   "metadata": {},
   "outputs": [
    {
     "data": {
      "text/html": [
       "<div>\n",
       "<style scoped>\n",
       "    .dataframe tbody tr th:only-of-type {\n",
       "        vertical-align: middle;\n",
       "    }\n",
       "\n",
       "    .dataframe tbody tr th {\n",
       "        vertical-align: top;\n",
       "    }\n",
       "\n",
       "    .dataframe thead th {\n",
       "        text-align: right;\n",
       "    }\n",
       "</style>\n",
       "<table border=\"1\" class=\"dataframe\">\n",
       "  <thead>\n",
       "    <tr style=\"text-align: right;\">\n",
       "      <th></th>\n",
       "      <th>mantiene</th>\n",
       "      <th>disminuye</th>\n",
       "      <th>incrementa</th>\n",
       "    </tr>\n",
       "  </thead>\n",
       "  <tbody>\n",
       "    <tr>\n",
       "      <td>2008</td>\n",
       "      <td>7</td>\n",
       "      <td>0.0</td>\n",
       "      <td>3.0</td>\n",
       "    </tr>\n",
       "    <tr>\n",
       "      <td>2009</td>\n",
       "      <td>4</td>\n",
       "      <td>7.0</td>\n",
       "      <td>0.0</td>\n",
       "    </tr>\n",
       "    <tr>\n",
       "      <td>2010</td>\n",
       "      <td>11</td>\n",
       "      <td>0.0</td>\n",
       "      <td>0.0</td>\n",
       "    </tr>\n",
       "    <tr>\n",
       "      <td>2011</td>\n",
       "      <td>8</td>\n",
       "      <td>0.0</td>\n",
       "      <td>0.0</td>\n",
       "    </tr>\n",
       "    <tr>\n",
       "      <td>2012</td>\n",
       "      <td>8</td>\n",
       "      <td>0.0</td>\n",
       "      <td>0.0</td>\n",
       "    </tr>\n",
       "  </tbody>\n",
       "</table>\n",
       "</div>"
      ],
      "text/plain": [
       "      mantiene  disminuye  incrementa\n",
       "2008         7        0.0         3.0\n",
       "2009         4        7.0         0.0\n",
       "2010        11        0.0         0.0\n",
       "2011         8        0.0         0.0\n",
       "2012         8        0.0         0.0"
      ]
     },
     "execution_count": 148,
     "metadata": {},
     "output_type": "execute_result"
    }
   ],
   "source": [
    "mantiene = pd.DataFrame(grouped.xs('mantiene', level=1)).rename(columns={\"category\": \"mantiene\"})\n",
    "disminuye = pd.DataFrame(grouped.xs('disminuye', level=1)).rename(columns={\"category\": \"disminuye\"})\n",
    "incrementa = pd.DataFrame(grouped.xs('incrementa', level=1)).rename(columns={\"category\": \"incrementa\"})\n",
    "\n",
    "\n",
    "grouped_new = mantiene.join(disminuye).join(incrementa).fillna(0)\n",
    "grouped_new.head()"
   ]
  },
  {
   "cell_type": "code",
   "execution_count": 149,
   "metadata": {},
   "outputs": [
    {
     "data": {
      "image/png": "[encoded data removed]",
      "text/plain": [
       "<Figure size 864x288 with 1 Axes>"
      ]
     },
     "metadata": {
      "image/png": {
       "height": 252,
       "width": 703
      },
      "needs_background": "light"
     },
     "output_type": "display_data"
    }
   ],
   "source": [
    "\n",
    "N = len(grouped_new)\n",
    "ind = np.arange(N)    # the x locations for the groups\n",
    "width = 0.5       # the width of the bars: can also be len(x) sequence\n",
    "\n",
    "p1 = plt.bar(ind, grouped_new['mantiene'], width)\n",
    "p2 = plt.bar(ind, grouped_new['disminuye'], width,\n",
    "             bottom=grouped_new['mantiene'])\n",
    "p3 = plt.bar(ind, grouped_new['incrementa'], width,\n",
    "             bottom=grouped_new['mantiene'])\n",
    "\n",
    "#plt.ylabel('')\n",
    "#plt.title('')\n",
    "\n",
    "plt.xticks(ind, grouped_new.index)\n",
    "plt.yticks(np.arange(0, 13, 2))\n",
    "plt.legend((p1[0], p2[0], p3[0]), ('Mantiene', 'Disminuye', 'Incrementa'))\n",
    "plt.grid(alpha=0.6)\n",
    "\n",
    "plt.show()"
   ]
  },
  {
   "cell_type": "markdown",
   "metadata": {},
   "source": [
    "# Banxico Parte 2"
   ]
  },
  {
   "cell_type": "markdown",
   "metadata": {},
   "source": [
    "* Ocupando únicamente pandas, numpy; matplotlib; seaborn,\n",
    "con la info obtenida en la parte 1 (pandas DataFrame) modelar con Naivee Bayes, \n",
    "si un documento dado pertenece a la clase 'mantiene', 'incrementa', 'disminuye'. Para esto, descargar los PDFs\n",
    "\n",
    "## Pasos\n",
    "\n",
    "1. Descargar PDFs\n",
    "2. Limpiar los datos\n",
    "3. Eliminar de todos los archivos las palabras que contengan 'mantiene', 'incrementa', 'disminuye'\n",
    "4. Parte los documentos entre un set de entrenamiento (0.8) y uno de prueba (0.2)\n",
    "5. Entrena el modelo con los documentos de entrenamiento y valida el resultado con una matriz de confusión \n",
    "   usando la base de prueba\n",
    "\n"
   ]
  },
  {
   "cell_type": "code",
   "execution_count": 248,
   "metadata": {},
   "outputs": [],
   "source": [
    "import requests\n",
    "import os \n",
    "from collections import defaultdict\n",
    "import PyPDF2\n",
    "from sklearn.model_selection import train_test_split\n",
    "import re\n",
    "import pickle\n",
    "import matplotlib.pyplot as plt\n",
    "from unidecode import unidecode\n",
    "from nltk import corpus\n",
    "from collections import defaultdict\n",
    "from tqdm.notebook import tqdm\n"
   ]
  },
  {
   "cell_type": "code",
   "execution_count": 177,
   "metadata": {},
   "outputs": [],
   "source": [
    "# descarga papers \n",
    "for i in range(len(df)):\n",
    "    url = df['url'][i]\n",
    "    r = requests.get(url)\n",
    "    \n",
    "    paper = r.content\n",
    "\n",
    "    # recomendable primero crear una carpeta si no existe donde guardaré mis pdfs\n",
    "    if not os.path.exists(\"descargas_pdfs\"):  \n",
    "        os.mkdir(\"descargas_pdfs\")\n",
    "    \n",
    "    full_path = os.path.join(\"descargas_pdfs\", f\"paper{i}.pdf\")\n",
    "    \n",
    "    # escribe cada pdf en mi carpeta\n",
    "    with open(full_path,\"wb\") as f: # wb write binary\n",
    "        f.write(paper)\n",
    "    "
   ]
  },
  {
   "cell_type": "code",
   "execution_count": 230,
   "metadata": {},
   "outputs": [],
   "source": [
    "# lee papers y los guarda en un diccionario con disminuye, mantiene e incrementa como llaves\n",
    "\n",
    "d = defaultdict(list)\n",
    "\n",
    "for i in range(len(df)):\n",
    "    \n",
    "    full_path = os.path.join(\"descargas_pdfs\", f\"paper{i}.pdf\")\n",
    "    \n",
    "    pdf_file = open(full_path, 'rb')\n",
    "    read_pdf = PyPDF2.PdfFileReader(pdf_file)\n",
    "    number_of_pages = read_pdf.getNumPages()\n",
    "    c = Counter(range(number_of_pages))\n",
    "\n",
    "    text_paper_i = ''\n",
    "    for j in c:\n",
    "       page = read_pdf.getPage(j)\n",
    "       page_content = page.extractText()\n",
    "       text_paper_i = text_paper_i + page_content # leemos el pdf completo y lo guardamos en text_paper_i\n",
    "            \n",
    "    d[df['category'][i]].append(text_paper_i)\n",
    "      "
   ]
  },
  {
   "cell_type": "code",
   "execution_count": 239,
   "metadata": {},
   "outputs": [],
   "source": [
    "k1, k2, k3 = 'mantiene', 'incrementa', 'disminuye'"
   ]
  },
  {
   "cell_type": "code",
   "execution_count": null,
   "metadata": {},
   "outputs": [],
   "source": [
    "def limpia_dialogo(texto):\n",
    "    limpio = texto.lower()\n",
    "    limpio = re.sub(\"[^\\w ]\", \"\", limpio) # quitamos todo lo que no sea alfanumerico o espacio \n",
    "    return limpio"
   ]
  },
  {
   "cell_type": "code",
   "execution_count": 238,
   "metadata": {},
   "outputs": [],
   "source": [
    "D1 = [limpia_dialogo(doc) for doc in d[k1]]\n",
    "D2 = [limpia_dialogo(doc) for doc in d[k2]]\n",
    "D3 = [limpia_dialogo(doc) for doc in d[k3]]\n",
    "\n",
    "# quiero partir mis datos en un train group y un test group de datos\n",
    "\n",
    "D1, D1_test = train_test_split(D1,test_size = 0.2)\n",
    "D2, D2_test = train_test_split(D2,test_size = 0.2)\n",
    "D3, D3_test = train_test_split(D3,test_size = 0.2)"
   ]
  },
  {
   "cell_type": "code",
   "execution_count": 242,
   "metadata": {},
   "outputs": [
    {
     "data": {
      "text/plain": [
       "83"
      ]
     },
     "execution_count": 242,
     "metadata": {},
     "output_type": "execute_result"
    }
   ],
   "source": [
    "\n",
    "N1 = len(D1)\n",
    "N2 = len(D2)\n",
    "N3 = len(D3)\n",
    "N = N1 + N2 + N3\n",
    "N"
   ]
  },
  {
   "cell_type": "code",
   "execution_count": 341,
   "metadata": {},
   "outputs": [
    {
     "data": {
      "text/plain": [
       "313"
      ]
     },
     "execution_count": 341,
     "metadata": {},
     "output_type": "execute_result"
    }
   ],
   "source": [
    "# quitamos las palabras que no nos interesan \n",
    "stopwords = corpus.stopwords.words(\"spanish\")\n",
    "aditional_stopwords = ['mantener','disminuir','incrementar', 'mantengan','disminuyan','incrementen','además','general','vez']\n",
    "stopwords = stopwords + aditional_stopwords\n",
    "len(stopwords)\n"
   ]
  },
  {
   "cell_type": "code",
   "execution_count": 342,
   "metadata": {},
   "outputs": [],
   "source": [
    "V1 = [palabra for dialogo in D1 for palabra in dialogo.split() if palabra not in stopwords]\n",
    "V2 = [palabra for dialogo in D2 for palabra in dialogo.split() if palabra not in stopwords]\n",
    "V3 = [palabra for dialogo in D3 for palabra in dialogo.split() if palabra not in stopwords]\n"
   ]
  },
  {
   "cell_type": "code",
   "execution_count": 343,
   "metadata": {},
   "outputs": [],
   "source": [
    "V1_c = pd.Series(V1, name='k1').value_counts()\n",
    "V2_c = pd.Series(V2, name = 'k2').value_counts()\n",
    "V3_c = pd.Series(V3, name = 'k3').value_counts()\n"
   ]
  },
  {
   "cell_type": "code",
   "execution_count": 344,
   "metadata": {},
   "outputs": [
    {
     "data": {
      "text/plain": [
       "(3209, 0)"
      ]
     },
     "execution_count": 344,
     "metadata": {},
     "output_type": "execute_result"
    }
   ],
   "source": [
    "V = set(V1) | set(V2) | set(V3)\n",
    "vocab = pd.DataFrame(index=V)\n",
    "vocab.shape"
   ]
  },
  {
   "cell_type": "code",
   "execution_count": 345,
   "metadata": {},
   "outputs": [],
   "source": [
    "# likelihood\n",
    "L = (vocab.join(V1_c, how = \"left\")\n",
    "    .join(V2_c, how = \"left\")\n",
    "    .join(V3_c, how = \"left\"))\n",
    "\n",
    "#L.to_csv('out.csv')"
   ]
  },
  {
   "cell_type": "code",
   "execution_count": 346,
   "metadata": {},
   "outputs": [
    {
     "data": {
      "text/html": [
       "<div>\n",
       "<style scoped>\n",
       "    .dataframe tbody tr th:only-of-type {\n",
       "        vertical-align: middle;\n",
       "    }\n",
       "\n",
       "    .dataframe tbody tr th {\n",
       "        vertical-align: top;\n",
       "    }\n",
       "\n",
       "    .dataframe thead th {\n",
       "        text-align: right;\n",
       "    }\n",
       "</style>\n",
       "<table border=\"1\" class=\"dataframe\">\n",
       "  <thead>\n",
       "    <tr style=\"text-align: right;\">\n",
       "      <th></th>\n",
       "      <th>k1</th>\n",
       "      <th>k2</th>\n",
       "      <th>k3</th>\n",
       "    </tr>\n",
       "  </thead>\n",
       "  <tbody>\n",
       "    <tr>\n",
       "      <td>tomando</td>\n",
       "      <td>0.000601</td>\n",
       "      <td>0.001588</td>\n",
       "      <td>0.000783</td>\n",
       "    </tr>\n",
       "    <tr>\n",
       "      <td>alcista</td>\n",
       "      <td>0.000127</td>\n",
       "      <td>0.000238</td>\n",
       "      <td>0.000224</td>\n",
       "    </tr>\n",
       "    <tr>\n",
       "      <td>mantenido</td>\n",
       "      <td>0.001297</td>\n",
       "      <td>0.000874</td>\n",
       "      <td>0.001678</td>\n",
       "    </tr>\n",
       "    <tr>\n",
       "      <td>subieron</td>\n",
       "      <td>0.000095</td>\n",
       "      <td>0.000159</td>\n",
       "      <td>0.000112</td>\n",
       "    </tr>\n",
       "    <tr>\n",
       "      <td>benigno</td>\n",
       "      <td>0.000063</td>\n",
       "      <td>0.000079</td>\n",
       "      <td>0.000112</td>\n",
       "    </tr>\n",
       "    <tr>\n",
       "      <td>agraven</td>\n",
       "      <td>0.000063</td>\n",
       "      <td>0.000079</td>\n",
       "      <td>0.000112</td>\n",
       "    </tr>\n",
       "    <tr>\n",
       "      <td>atenuaría</td>\n",
       "      <td>0.000032</td>\n",
       "      <td>0.000159</td>\n",
       "      <td>0.000112</td>\n",
       "    </tr>\n",
       "    <tr>\n",
       "      <td>acuerdos</td>\n",
       "      <td>0.000158</td>\n",
       "      <td>0.000079</td>\n",
       "      <td>0.000112</td>\n",
       "    </tr>\n",
       "    <tr>\n",
       "      <td>afecta</td>\n",
       "      <td>0.000095</td>\n",
       "      <td>0.000079</td>\n",
       "      <td>0.000224</td>\n",
       "    </tr>\n",
       "    <tr>\n",
       "      <td>sufra</td>\n",
       "      <td>0.000063</td>\n",
       "      <td>0.000079</td>\n",
       "      <td>0.000112</td>\n",
       "    </tr>\n",
       "  </tbody>\n",
       "</table>\n",
       "</div>"
      ],
      "text/plain": [
       "                 k1        k2        k3\n",
       "tomando    0.000601  0.001588  0.000783\n",
       "alcista    0.000127  0.000238  0.000224\n",
       "mantenido  0.001297  0.000874  0.001678\n",
       "subieron   0.000095  0.000159  0.000112\n",
       "benigno    0.000063  0.000079  0.000112\n",
       "agraven    0.000063  0.000079  0.000112\n",
       "atenuaría  0.000032  0.000159  0.000112\n",
       "acuerdos   0.000158  0.000079  0.000112\n",
       "afecta     0.000095  0.000079  0.000224\n",
       "sufra      0.000063  0.000079  0.000112"
      ]
     },
     "execution_count": 346,
     "metadata": {},
     "output_type": "execute_result"
    }
   ],
   "source": [
    "# likelihood\n",
    "\n",
    "L = L.fillna(0) + 1 #numerador \n",
    "L = L / L.sum(axis=0) # L.sum(axis=0)  suma el total por clase \n",
    "\n",
    "L.sort_values(\"k1\",ascending = False)\n",
    "L.sample(10)\n"
   ]
  },
  {
   "cell_type": "code",
   "execution_count": 368,
   "metadata": {},
   "outputs": [],
   "source": [
    "log_L = np.log(L)\n",
    "\n",
    "log_prior_k1 = np.log(N1/N)\n",
    "log_prior_k2 = np.log(N2/N)\n",
    "log_prior_k3 = np.log(N3/N)\n",
    "\n",
    "log_priors = np.array([log_prior_k1,log_prior_k2,log_prior_k3])\n"
   ]
  },
  {
   "cell_type": "markdown",
   "metadata": {},
   "source": [
    "# Probando el modelo"
   ]
  },
  {
   "cell_type": "code",
   "execution_count": 348,
   "metadata": {},
   "outputs": [],
   "source": [
    "len(D1_test)\n",
    "d_test = D1_test[0]\n",
    "f = set([palabra for palabra in d_test.split() if palabra in V])"
   ]
  },
  {
   "cell_type": "code",
   "execution_count": 349,
   "metadata": {},
   "outputs": [
    {
     "data": {
      "text/plain": [
       "k1   -3679.131708\n",
       "k2   -3651.017602\n",
       "k3   -3777.030340\n",
       "dtype: float64"
      ]
     },
     "execution_count": 349,
     "metadata": {},
     "output_type": "execute_result"
    }
   ],
   "source": [
    "res = log_L.loc[f].sum(axis=0) + log_priors\n",
    "res"
   ]
  },
  {
   "cell_type": "code",
   "execution_count": 350,
   "metadata": {},
   "outputs": [
    {
     "data": {
      "text/plain": [
       "'k2'"
      ]
     },
     "execution_count": 350,
     "metadata": {},
     "output_type": "execute_result"
    }
   ],
   "source": [
    "res.idxmax()# k2 "
   ]
  },
  {
   "cell_type": "code",
   "execution_count": 351,
   "metadata": {},
   "outputs": [
    {
     "name": "stdout",
     "output_type": "stream",
     "text": [
      "23\n"
     ]
    }
   ],
   "source": [
    "D_test = D1_test + D2_test + D3_test\n",
    "print(len(D_test))\n",
    "y_test = [\"k1\"]*len(D1_test) + [\"k2\"]*len(D2_test) + [\"k3\"]*len(D3_test)"
   ]
  },
  {
   "cell_type": "code",
   "execution_count": 352,
   "metadata": {},
   "outputs": [
    {
     "name": "stdout",
     "output_type": "stream",
     "text": [
      "['k1', 'k1', 'k1', 'k1', 'k1', 'k1', 'k1', 'k1', 'k1', 'k1', 'k1', 'k1', 'k1', 'k1', 'k1', 'k2', 'k2', 'k2', 'k2', 'k3', 'k3', 'k3', 'k3']\n",
      "['k2', 'k3', 'k1', 'k1', 'k1', 'k1', 'k1', 'k1', 'k1', 'k1', 'k1', 'k1', 'k2', 'k1', 'k1', 'k1', 'k2', 'k2', 'k2', 'k3', 'k3', 'k3', 'k3']\n"
     ]
    }
   ],
   "source": [
    "yhat_test = [] \n",
    "for d_test in D_test:\n",
    "    f = set([palabra for palabra in d_test.split() if palabra in V])\n",
    "    res = log_L.loc[f].sum(axis=0) + log_priors\n",
    "    yhat_test.append(res.idxmax())\n",
    "\n",
    "print(y_test)\n",
    "print(yhat_test)    "
   ]
  },
  {
   "cell_type": "code",
   "execution_count": 353,
   "metadata": {},
   "outputs": [
    {
     "data": {
      "text/plain": [
       "array([[12,  2,  1],\n",
       "       [ 1,  3,  0],\n",
       "       [ 0,  0,  4]])"
      ]
     },
     "execution_count": 353,
     "metadata": {},
     "output_type": "execute_result"
    }
   ],
   "source": [
    "from  sklearn.metrics import confusion_matrix\n",
    "confusion_matrix(y_test,yhat_test)"
   ]
  },
  {
   "cell_type": "code",
   "execution_count": 354,
   "metadata": {},
   "outputs": [
    {
     "data": {
      "text/plain": [
       "<matplotlib.axes._subplots.AxesSubplot at 0x1a1fdad590>"
      ]
     },
     "execution_count": 354,
     "metadata": {},
     "output_type": "execute_result"
    },
    {
     "data": {
      "image/png": "[encoded data removed]",
      "text/plain": [
       "<Figure size 576x432 with 2 Axes>"
      ]
     },
     "metadata": {
      "image/png": {
       "height": 371,
       "width": 460
      }
     },
     "output_type": "display_data"
    }
   ],
   "source": [
    "import seaborn as sn\n",
    "array = confusion_matrix(y_test,yhat_test)\n",
    "df_cm = pd.DataFrame(array, index = ['k1','k2','k3'],\n",
    "                  columns = ['k1','k2','k3'])\n",
    "plt.figure(figsize = (8,6))\n",
    "sn.set(font_scale=1.4) # for label size\n",
    "sn.heatmap(df_cm, annot=True, annot_kws={\"size\": 16})\n"
   ]
  }
 ],
 "metadata": {
  "kernelspec": {
   "display_name": "Python 3",
   "language": "python",
   "name": "python3"
  },
  "language_info": {
   "codemirror_mode": {
    "name": "ipython",
    "version": 3
   },
   "file_extension": ".py",
   "mimetype": "text/x-python",
   "name": "python",
   "nbconvert_exporter": "python",
   "pygments_lexer": "ipython3",
   "version": "3.7.4"
  }
 },
 "nbformat": 4,
 "nbformat_minor": 2
}
